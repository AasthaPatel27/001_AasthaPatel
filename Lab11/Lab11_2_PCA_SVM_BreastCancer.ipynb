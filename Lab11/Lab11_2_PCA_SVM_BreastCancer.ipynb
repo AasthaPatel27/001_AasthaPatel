{
  "nbformat": 4,
  "nbformat_minor": 0,
  "metadata": {
    "colab": {
      "name": "Lab11_2_PCA_SVM_BreastCancer.ipynb",
      "provenance": []
    },
    "kernelspec": {
      "name": "python3",
      "display_name": "Python 3"
    },
    "language_info": {
      "name": "python"
    }
  },
  "cells": [
    {
      "cell_type": "code",
      "metadata": {
        "colab": {
          "base_uri": "https://localhost:8080/"
        },
        "id": "GM94NuvBTmj9",
        "outputId": "9368b40b-07b1-4a06-a270-84ebb8d6121c"
      },
      "source": [
        "%matplotlib inline\n",
        "import pandas as pd\n",
        "from sklearn import datasets\n",
        "from sklearn.decomposition import PCA\n",
        "from sklearn import svm,decomposition\n",
        "\n",
        "dataset = datasets.load_breast_cancer()\n",
        "dataset.target_names"
      ],
      "execution_count": 1,
      "outputs": [
        {
          "output_type": "execute_result",
          "data": {
            "text/plain": [
              "array(['malignant', 'benign'], dtype='<U9')"
            ]
          },
          "metadata": {},
          "execution_count": 1
        }
      ]
    },
    {
      "cell_type": "code",
      "metadata": {
        "colab": {
          "base_uri": "https://localhost:8080/"
        },
        "id": "afiSdYEFTx1c",
        "outputId": "a51be3bf-a1ce-44c2-e925-c9d352a6068e"
      },
      "source": [
        "from sklearn.model_selection import train_test_split\n",
        "X_train, X_test, y_train, y_test = train_test_split(dataset.data ,dataset.target, random_state=1)\n",
        "\n",
        "print(X_train.shape, X_test.shape)"
      ],
      "execution_count": 2,
      "outputs": [
        {
          "output_type": "stream",
          "name": "stdout",
          "text": [
            "(426, 30) (143, 30)\n"
          ]
        }
      ]
    },
    {
      "cell_type": "code",
      "metadata": {
        "colab": {
          "base_uri": "https://localhost:8080/"
        },
        "id": "2d1hiESCTzqz",
        "outputId": "5574e089-1b72-4cca-809f-69fd57649a9b"
      },
      "source": [
        "pca = decomposition.PCA(n_components=20, whiten=True, random_state=1)\n",
        "pca.fit(X_train)"
      ],
      "execution_count": 3,
      "outputs": [
        {
          "output_type": "execute_result",
          "data": {
            "text/plain": [
              "PCA(copy=True, iterated_power='auto', n_components=20, random_state=1,\n",
              "    svd_solver='auto', tol=0.0, whiten=True)"
            ]
          },
          "metadata": {},
          "execution_count": 3
        }
      ]
    },
    {
      "cell_type": "code",
      "metadata": {
        "colab": {
          "base_uri": "https://localhost:8080/"
        },
        "id": "gQ-YdKwMT18z",
        "outputId": "16a46988-ab0d-45a1-b957-aa705f79b502"
      },
      "source": [
        "X_train_pca = pca.transform(X_train)\n",
        "X_test_pca = pca.transform(X_test)\n",
        "print(X_train_pca.shape)\n",
        "\n",
        "clf = svm.SVC(C=2., gamma=0.001, random_state=1)\n",
        "clf.fit(X_train_pca, y_train)"
      ],
      "execution_count": 4,
      "outputs": [
        {
          "output_type": "stream",
          "name": "stdout",
          "text": [
            "(426, 20)\n"
          ]
        },
        {
          "output_type": "execute_result",
          "data": {
            "text/plain": [
              "SVC(C=2.0, break_ties=False, cache_size=200, class_weight=None, coef0=0.0,\n",
              "    decision_function_shape='ovr', degree=3, gamma=0.001, kernel='rbf',\n",
              "    max_iter=-1, probability=False, random_state=1, shrinking=True, tol=0.001,\n",
              "    verbose=False)"
            ]
          },
          "metadata": {},
          "execution_count": 4
        }
      ]
    },
    {
      "cell_type": "code",
      "metadata": {
        "colab": {
          "base_uri": "https://localhost:8080/"
        },
        "id": "15cQbuhaT2_z",
        "outputId": "57d7af83-42d0-4e92-8a58-5e383fa03d73"
      },
      "source": [
        "from sklearn import metrics\n",
        "y_pred = clf.predict(X_test_pca)\n",
        "\n",
        "print(metrics.classification_report(y_test, y_pred))"
      ],
      "execution_count": 5,
      "outputs": [
        {
          "output_type": "stream",
          "name": "stdout",
          "text": [
            "              precision    recall  f1-score   support\n",
            "\n",
            "           0       1.00      0.75      0.85        55\n",
            "           1       0.86      1.00      0.93        88\n",
            "\n",
            "    accuracy                           0.90       143\n",
            "   macro avg       0.93      0.87      0.89       143\n",
            "weighted avg       0.92      0.90      0.90       143\n",
            "\n"
          ]
        }
      ]
    },
    {
      "cell_type": "code",
      "metadata": {
        "colab": {
          "base_uri": "https://localhost:8080/"
        },
        "id": "cGCu_zimT4Jr",
        "outputId": "e8694506-9ffe-4628-cf1d-2d06671d2043"
      },
      "source": [
        "from sklearn.pipeline import Pipeline\n",
        "clf = Pipeline([('pca', decomposition.PCA(n_components=2, whiten=True)), ('svm', svm.LinearSVC(C=2.0))])\n",
        "\n",
        "clf.fit(X_train, y_train)\n",
        "\n",
        "y_pred = clf.predict(X_test)\n",
        "print(metrics.confusion_matrix(y_pred, y_test))"
      ],
      "execution_count": 6,
      "outputs": [
        {
          "output_type": "stream",
          "name": "stdout",
          "text": [
            "[[48  3]\n",
            " [ 7 85]]\n"
          ]
        }
      ]
    }
  ]
}