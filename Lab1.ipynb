{
  "nbformat": 4,
  "nbformat_minor": 0,
  "metadata": {
    "colab": {
      "name": "Lab1.ipynb",
      "provenance": []
    },
    "kernelspec": {
      "name": "python3",
      "display_name": "Python 3"
    },
    "language_info": {
      "name": "python"
    }
  },
  "cells": [
    {
      "cell_type": "markdown",
      "metadata": {
        "id": "16z4OF9d_XFY"
      },
      "source": [
        "Task 1"
      ]
    },
    {
      "cell_type": "code",
      "metadata": {
        "id": "gCC7V8TL_meL"
      },
      "source": [
        "import numpy as np"
      ],
      "execution_count": null,
      "outputs": []
    },
    {
      "cell_type": "code",
      "metadata": {
        "id": "3CkvWK5i_-Mm"
      },
      "source": [
        "arr1 = np.empty( shape = (3,2))"
      ],
      "execution_count": null,
      "outputs": []
    },
    {
      "cell_type": "code",
      "metadata": {
        "id": "SCmoWC1VACM-"
      },
      "source": [
        "arr2 = np.empty( shape = (2,3))"
      ],
      "execution_count": null,
      "outputs": []
    },
    {
      "cell_type": "code",
      "metadata": {
        "colab": {
          "base_uri": "https://localhost:8080/"
        },
        "id": "ZAwsBTQNAxmg",
        "outputId": "50515a1a-c96a-4fcb-acf6-898c602cb54f"
      },
      "source": [
        "print(arr1)"
      ],
      "execution_count": null,
      "outputs": [
        {
          "output_type": "stream",
          "text": [
            "[[4.66839034e-310 0.00000000e+000]\n",
            " [0.00000000e+000 0.00000000e+000]\n",
            " [0.00000000e+000 0.00000000e+000]]\n"
          ],
          "name": "stdout"
        }
      ]
    },
    {
      "cell_type": "code",
      "metadata": {
        "colab": {
          "base_uri": "https://localhost:8080/"
        },
        "id": "8xJrPca4Bc2J",
        "outputId": "9a388541-6af0-4982-c791-b7447e36f065"
      },
      "source": [
        "print(arr2)"
      ],
      "execution_count": null,
      "outputs": [
        {
          "output_type": "stream",
          "text": [
            "[[4.66839034e-310 0.00000000e+000 0.00000000e+000]\n",
            " [0.00000000e+000 0.00000000e+000 0.00000000e+000]]\n"
          ],
          "name": "stdout"
        }
      ]
    },
    {
      "cell_type": "markdown",
      "metadata": {
        "id": "0xdVdsvVCoUX"
      },
      "source": [
        "Task 2"
      ]
    },
    {
      "cell_type": "code",
      "metadata": {
        "id": "4CAai3cxBoKB"
      },
      "source": [
        "arr = np.array(list(range(4,10)))"
      ],
      "execution_count": null,
      "outputs": []
    },
    {
      "cell_type": "code",
      "metadata": {
        "id": "dGgBBO-JDN51"
      },
      "source": [
        "arr1 = arr.reshape(3,2)"
      ],
      "execution_count": null,
      "outputs": []
    },
    {
      "cell_type": "code",
      "metadata": {
        "id": "KiyshTPkDQ0Q"
      },
      "source": [
        "arr2 = arr.reshape(2,3)"
      ],
      "execution_count": null,
      "outputs": []
    },
    {
      "cell_type": "code",
      "metadata": {
        "colab": {
          "base_uri": "https://localhost:8080/"
        },
        "id": "0_ziOeA9DTAU",
        "outputId": "6cf2c676-f374-4eba-9d74-3fcb0823a48f"
      },
      "source": [
        "print(arr1)"
      ],
      "execution_count": null,
      "outputs": [
        {
          "output_type": "stream",
          "text": [
            "[[4 5]\n",
            " [6 7]\n",
            " [8 9]]\n"
          ],
          "name": "stdout"
        }
      ]
    },
    {
      "cell_type": "code",
      "metadata": {
        "colab": {
          "base_uri": "https://localhost:8080/"
        },
        "id": "I6KJ9aT9DVDl",
        "outputId": "724690a0-6ba6-4ff3-dd5a-08a71ca631ed"
      },
      "source": [
        "print(arr2)"
      ],
      "execution_count": null,
      "outputs": [
        {
          "output_type": "stream",
          "text": [
            "[[4 5 6]\n",
            " [7 8 9]]\n"
          ],
          "name": "stdout"
        }
      ]
    },
    {
      "cell_type": "markdown",
      "metadata": {
        "id": "ocjZLVZWDXIP"
      },
      "source": [
        "Task 3"
      ]
    },
    {
      "cell_type": "code",
      "metadata": {
        "id": "EWOeMShhDYj5"
      },
      "source": [
        "mul = np.dot(arr1,arr2)"
      ],
      "execution_count": null,
      "outputs": []
    },
    {
      "cell_type": "code",
      "metadata": {
        "colab": {
          "base_uri": "https://localhost:8080/"
        },
        "id": "HH3qi0I7DkSB",
        "outputId": "0501ad56-001f-40a6-e9d6-7f59810cc70c"
      },
      "source": [
        "print(mul)"
      ],
      "execution_count": null,
      "outputs": [
        {
          "output_type": "stream",
          "text": [
            "[[ 51  60  69]\n",
            " [ 73  86  99]\n",
            " [ 95 112 129]]\n"
          ],
          "name": "stdout"
        }
      ]
    },
    {
      "cell_type": "markdown",
      "metadata": {
        "id": "L6CwBB1UD2s3"
      },
      "source": [
        "Task 4"
      ]
    },
    {
      "cell_type": "code",
      "metadata": {
        "id": "Ps-iqwYXD8wo"
      },
      "source": [
        "elementMatrix = arr1 * arr2.T"
      ],
      "execution_count": null,
      "outputs": []
    },
    {
      "cell_type": "code",
      "metadata": {
        "colab": {
          "base_uri": "https://localhost:8080/"
        },
        "id": "0s6ZSBGWETBm",
        "outputId": "17b8636c-72b7-4c26-89b4-5799c160715f"
      },
      "source": [
        "print(elementMatrix)"
      ],
      "execution_count": null,
      "outputs": [
        {
          "output_type": "stream",
          "text": [
            "[[16 35]\n",
            " [30 56]\n",
            " [48 81]]\n"
          ],
          "name": "stdout"
        }
      ]
    },
    {
      "cell_type": "markdown",
      "metadata": {
        "id": "ukEN8RGiEWy2"
      },
      "source": [
        "Task 5"
      ]
    },
    {
      "cell_type": "code",
      "metadata": {
        "id": "hH_eUzdTEciO"
      },
      "source": [
        "mean = np.mean(arr1)"
      ],
      "execution_count": null,
      "outputs": []
    },
    {
      "cell_type": "code",
      "metadata": {
        "colab": {
          "base_uri": "https://localhost:8080/"
        },
        "id": "pXWdDT2lEnxO",
        "outputId": "9e609141-b0ee-46c1-ada0-15ee0e67ff85"
      },
      "source": [
        "print(mean)"
      ],
      "execution_count": null,
      "outputs": [
        {
          "output_type": "stream",
          "text": [
            "6.5\n"
          ],
          "name": "stdout"
        }
      ]
    },
    {
      "cell_type": "markdown",
      "metadata": {
        "id": "e3Rx6QtCFBL3"
      },
      "source": [
        "Task 6"
      ]
    },
    {
      "cell_type": "code",
      "metadata": {
        "id": "0SEjdJiNFDsz"
      },
      "source": [
        "import pandas as pd\n",
        "\n",
        "data = pd.read_csv('mtcars.csv')"
      ],
      "execution_count": 36,
      "outputs": []
    },
    {
      "cell_type": "code",
      "metadata": {
        "id": "y7KLz2_WS4TK"
      },
      "source": [
        "cols = data.columns"
      ],
      "execution_count": 39,
      "outputs": []
    },
    {
      "cell_type": "code",
      "metadata": {
        "colab": {
          "base_uri": "https://localhost:8080/"
        },
        "id": "QP_kq2kbTMta",
        "outputId": "93b12d8e-61c0-4cd3-fc62-0773ee75dca4"
      },
      "source": [
        "for i in range(1,len(cols)):\n",
        "  data[cols[i]] -= np.mean(data[cols[i]])\n",
        "\n",
        "print(data)"
      ],
      "execution_count": 40,
      "outputs": [
        {
          "output_type": "stream",
          "text": [
            "             Unnamed: 0        mpg     cyl  ...       am    gear    carb\n",
            "0             Mazda RX4   0.909375 -0.1875  ...  0.59375  0.3125  1.1875\n",
            "1         Mazda RX4 Wag   0.909375 -0.1875  ...  0.59375  0.3125  1.1875\n",
            "2            Datsun 710   2.709375 -2.1875  ...  0.59375  0.3125 -1.8125\n",
            "3        Hornet 4 Drive   1.309375 -0.1875  ... -0.40625 -0.6875 -1.8125\n",
            "4     Hornet Sportabout  -1.390625  1.8125  ... -0.40625 -0.6875 -0.8125\n",
            "5               Valiant  -1.990625 -0.1875  ... -0.40625 -0.6875 -1.8125\n",
            "6            Duster 360  -5.790625  1.8125  ... -0.40625 -0.6875  1.1875\n",
            "7             Merc 240D   4.309375 -2.1875  ... -0.40625  0.3125 -0.8125\n",
            "8              Merc 230   2.709375 -2.1875  ... -0.40625  0.3125 -0.8125\n",
            "9              Merc 280  -0.890625 -0.1875  ... -0.40625  0.3125  1.1875\n",
            "10            Merc 280C  -2.290625 -0.1875  ... -0.40625  0.3125  1.1875\n",
            "11           Merc 450SE  -3.690625  1.8125  ... -0.40625 -0.6875  0.1875\n",
            "12           Merc 450SL  -2.790625  1.8125  ... -0.40625 -0.6875  0.1875\n",
            "13          Merc 450SLC  -4.890625  1.8125  ... -0.40625 -0.6875  0.1875\n",
            "14   Cadillac Fleetwood  -9.690625  1.8125  ... -0.40625 -0.6875  1.1875\n",
            "15  Lincoln Continental  -9.690625  1.8125  ... -0.40625 -0.6875  1.1875\n",
            "16    Chrysler Imperial  -5.390625  1.8125  ... -0.40625 -0.6875  1.1875\n",
            "17             Fiat 128  12.309375 -2.1875  ...  0.59375  0.3125 -1.8125\n",
            "18          Honda Civic  10.309375 -2.1875  ...  0.59375  0.3125 -0.8125\n",
            "19       Toyota Corolla  13.809375 -2.1875  ...  0.59375  0.3125 -1.8125\n",
            "20        Toyota Corona   1.409375 -2.1875  ... -0.40625 -0.6875 -1.8125\n",
            "21     Dodge Challenger  -4.590625  1.8125  ... -0.40625 -0.6875 -0.8125\n",
            "22          AMC Javelin  -4.890625  1.8125  ... -0.40625 -0.6875 -0.8125\n",
            "23           Camaro Z28  -6.790625  1.8125  ... -0.40625 -0.6875  1.1875\n",
            "24     Pontiac Firebird  -0.890625  1.8125  ... -0.40625 -0.6875 -0.8125\n",
            "25            Fiat X1-9   7.209375 -2.1875  ...  0.59375  0.3125 -1.8125\n",
            "26        Porsche 914-2   5.909375 -2.1875  ...  0.59375  1.3125 -0.8125\n",
            "27         Lotus Europa  10.309375 -2.1875  ...  0.59375  1.3125 -0.8125\n",
            "28       Ford Pantera L  -4.290625  1.8125  ...  0.59375  1.3125  1.1875\n",
            "29         Ferrari Dino  -0.390625 -0.1875  ...  0.59375  1.3125  3.1875\n",
            "30        Maserati Bora  -5.090625  1.8125  ...  0.59375  1.3125  5.1875\n",
            "31           Volvo 142E   1.309375 -2.1875  ...  0.59375  0.3125 -0.8125\n",
            "\n",
            "[32 rows x 12 columns]\n"
          ],
          "name": "stdout"
        }
      ]
    },
    {
      "cell_type": "code",
      "metadata": {
        "id": "DlvO-dmoUKwO"
      },
      "source": [
        ""
      ],
      "execution_count": null,
      "outputs": []
    }
  ]
}