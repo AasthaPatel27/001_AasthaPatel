{
  "nbformat": 4,
  "nbformat_minor": 0,
  "metadata": {
    "colab": {
      "name": "Lab1_2.ipynb",
      "provenance": []
    },
    "kernelspec": {
      "name": "python3",
      "display_name": "Python 3"
    },
    "language_info": {
      "name": "python"
    }
  },
  "cells": [
    {
      "cell_type": "code",
      "metadata": {
        "colab": {
          "base_uri": "https://localhost:8080/"
        },
        "id": "5XBgJwaMIowD",
        "outputId": "f3cbebb5-eec0-4643-d3fe-a8fe4e46e61c"
      },
      "source": [
        "from google.colab import drive\n",
        "drive.mount(\"/content/drive\")"
      ],
      "execution_count": 3,
      "outputs": [
        {
          "output_type": "stream",
          "text": [
            "Mounted at /content/drive\n"
          ],
          "name": "stdout"
        }
      ]
    },
    {
      "cell_type": "code",
      "metadata": {
        "id": "keReIGdOI2GJ"
      },
      "source": [
        "import nltk\n",
        "import matplotlib.pyplot as plt\n",
        "import pandas as pd"
      ],
      "execution_count": 4,
      "outputs": []
    },
    {
      "cell_type": "code",
      "metadata": {
        "id": "b7qD8ULMJJBJ"
      },
      "source": [
        "text = \"\"\"hey say too few people now carry the gene for blondes to last beyond the next\n",
        "blonde hair is caused by a recessive gene . In order for a child to have blond\n",
        "have blonde hair , it must have the gene on both sides of the family in the g\n",
        "ere is a disadvantage of having that gene or by chance .\"\"\""
      ],
      "execution_count": 5,
      "outputs": []
    },
    {
      "cell_type": "code",
      "metadata": {
        "id": "CKlYsTgmKic0"
      },
      "source": [
        "import re\n",
        "import string\n",
        "from nltk.corpus import stopwords\n",
        "from nltk.stem import PorterStemmer\n",
        "from nltk.tokenize import TweetTokenizer\n"
      ],
      "execution_count": 6,
      "outputs": []
    },
    {
      "cell_type": "code",
      "metadata": {
        "colab": {
          "base_uri": "https://localhost:8080/"
        },
        "id": "LVjC_KWeK51J",
        "outputId": "008448a4-a1df-4276-d89b-b8f4318f7217"
      },
      "source": [
        "remove_link_text = re.sub(r'https?:\\/\\/.*[\\r\\n]*', '', text)\n",
        "remove_link_text = re.sub(r'#', '', remove_link_text)\n",
        "print(remove_link_text)"
      ],
      "execution_count": 7,
      "outputs": [
        {
          "output_type": "stream",
          "text": [
            "hey say too few people now carry the gene for blondes to last beyond the next\n",
            "blonde hair is caused by a recessive gene . In order for a child to have blond\n",
            "have blonde hair , it must have the gene on both sides of the family in the g\n",
            "ere is a disadvantage of having that gene or by chance .\n"
          ],
          "name": "stdout"
        }
      ]
    },
    {
      "cell_type": "code",
      "metadata": {
        "colab": {
          "base_uri": "https://localhost:8080/"
        },
        "id": "FiH32myLK84N",
        "outputId": "ccc4e4be-8b53-4bcf-e3b4-0ec4d824200d"
      },
      "source": [
        "print('\\033[92m' + text)\n",
        "print('\\033[92m' + remove_link_text)"
      ],
      "execution_count": 8,
      "outputs": [
        {
          "output_type": "stream",
          "text": [
            "\u001b[92mhey say too few people now carry the gene for blondes to last beyond the next\n",
            "blonde hair is caused by a recessive gene . In order for a child to have blond\n",
            "have blonde hair , it must have the gene on both sides of the family in the g\n",
            "ere is a disadvantage of having that gene or by chance .\n",
            "\u001b[92mhey say too few people now carry the gene for blondes to last beyond the next\n",
            "blonde hair is caused by a recessive gene . In order for a child to have blond\n",
            "have blonde hair , it must have the gene on both sides of the family in the g\n",
            "ere is a disadvantage of having that gene or by chance .\n"
          ],
          "name": "stdout"
        }
      ]
    },
    {
      "cell_type": "code",
      "metadata": {
        "colab": {
          "base_uri": "https://localhost:8080/"
        },
        "id": "sPKLML2GLp1_",
        "outputId": "718cd3ac-03b2-4bec-f9f2-35f60f211d14"
      },
      "source": [
        "from nltk.tokenize import sent_tokenize\n",
        "new_text = \"\"\"Discussing climate, sustainability, and preserving the natural world with President @EmmanuelMacron today in Paris. #BezosEarthFund #ClimatePledge\"\"\"\n",
        "nltk.download(\"punkt\")\n",
        "tokenized_text = sent_tokenize(new_text)\n",
        "print(tokenized_text)"
      ],
      "execution_count": 9,
      "outputs": [
        {
          "output_type": "stream",
          "text": [
            "[nltk_data] Downloading package punkt to /root/nltk_data...\n",
            "[nltk_data]   Unzipping tokenizers/punkt.zip.\n",
            "['Discussing climate, sustainability, and preserving the natural world with President @EmmanuelMacron today in Paris.', '#BezosEarthFund #ClimatePledge']\n"
          ],
          "name": "stdout"
        }
      ]
    },
    {
      "cell_type": "code",
      "metadata": {
        "colab": {
          "base_uri": "https://localhost:8080/"
        },
        "id": "mDGVqrrGMXZG",
        "outputId": "7728082a-2864-4c1a-9738-b2a6ab05dec3"
      },
      "source": [
        "from nltk.tokenize import word_tokenize\n",
        "tokenized_words = word_tokenize(new_text)\n",
        "print(tokenized_words)"
      ],
      "execution_count": 10,
      "outputs": [
        {
          "output_type": "stream",
          "text": [
            "['Discussing', 'climate', ',', 'sustainability', ',', 'and', 'preserving', 'the', 'natural', 'world', 'with', 'President', '@', 'EmmanuelMacron', 'today', 'in', 'Paris', '.', '#', 'BezosEarthFund', '#', 'ClimatePledge']\n"
          ],
          "name": "stdout"
        }
      ]
    },
    {
      "cell_type": "code",
      "metadata": {
        "colab": {
          "base_uri": "https://localhost:8080/",
          "height": 359
        },
        "id": "dQtCagD0Mwzb",
        "outputId": "47716dc2-4386-4956-a676-dc4642728dba"
      },
      "source": [
        "from nltk.probability import FreqDist\n",
        "fdist = FreqDist(tokenized_words)\n",
        "fdist.most_common(4)\n",
        "import matplotlib.pyplot as plt\n",
        "fdist.plot(30, cumulative = False, color = \"purple\")\n",
        "plt.show()"
      ],
      "execution_count": 11,
      "outputs": [
        {
          "output_type": "display_data",
          "data": {
            "image/png": "[encoded data removed]",
            "text/plain": [
              "<Figure size 432x288 with 1 Axes>"
            ]
          },
          "metadata": {
            "tags": [],
            "needs_background": "light"
          }
        }
      ]
    },
    {
      "cell_type": "code",
      "metadata": {
        "colab": {
          "base_uri": "https://localhost:8080/"
        },
        "id": "jcgGeHNkNKZs",
        "outputId": "027d6afc-bac5-42d4-da2d-20b9a7abebde"
      },
      "source": [
        "from nltk.corpus import stopwords\n",
        "nltk.download(\"stopwords\")\n",
        "stop_words = set(stopwords.words(\"english\"))\n",
        "print(stop_words)"
      ],
      "execution_count": 12,
      "outputs": [
        {
          "output_type": "stream",
          "text": [
            "[nltk_data] Downloading package stopwords to /root/nltk_data...\n",
            "[nltk_data]   Unzipping corpora/stopwords.zip.\n",
            "{'isn', \"wasn't\", 'why', 'more', \"it's\", 'who', 'at', 'needn', 'until', 'a', 'hers', 'which', 'her', 'if', 'here', 'was', \"that'll\", 'over', \"mightn't\", 'not', 'off', 'mustn', \"wouldn't\", 'up', 'them', 'that', 'ma', 'down', 'herself', 'haven', 'him', 'his', 'is', 'weren', 'with', 'doesn', 'yourself', 'than', 'ourselves', 'don', 'own', \"isn't\", \"hasn't\", 'above', 'ours', 'any', 'mightn', 'doing', 'their', 'were', \"you've\", 'few', 'whom', 'because', 's', 'during', 'wouldn', 'will', 'ain', 'there', \"doesn't\", 'yourselves', 'other', \"shouldn't\", \"she's\", 'should', 'i', 'm', 're', 'am', 'as', 'out', 'be', 'how', 'same', 't', 'we', 'those', 'about', 'all', 'before', 'an', 'when', 'once', \"haven't\", 'in', 'after', \"you'd\", 'll', 'itself', 'wasn', 'having', 've', 'what', 'under', 'where', \"aren't\", 'these', \"needn't\", 'yours', 'he', 'just', 'has', 'been', 'further', 'such', \"weren't\", 'they', 'themselves', 'very', 'can', 'the', 'me', 'by', \"should've\", 'hadn', \"you'll\", 'or', 'this', 'won', 'between', 'so', 'are', 'you', \"shan't\", 'its', 'but', 'couldn', 'for', 'again', 'from', 'it', \"mustn't\", 'have', \"won't\", 'had', 'some', \"couldn't\", \"hadn't\", 'now', \"don't\", 'do', 'y', 'most', 'then', 'theirs', 'while', 'hasn', 'myself', 'shan', 'aren', 'against', 'my', 'too', 'd', 'did', 'below', 'both', 'no', 'into', 'each', 'on', 'to', 'shouldn', 'your', 'and', 'didn', 'through', 'nor', 'himself', \"didn't\", 'does', 'of', 'being', 'she', 'our', 'only', 'o', \"you're\"}\n"
          ],
          "name": "stdout"
        }
      ]
    },
    {
      "cell_type": "code",
      "metadata": {
        "colab": {
          "base_uri": "https://localhost:8080/"
        },
        "id": "H3vr7r6qNSVh",
        "outputId": "a89f5017-424b-461b-fdac-c53652c29c50"
      },
      "source": [
        "filtered_sent=[]\n",
        "for w in tokenized_words:\n",
        "    if w not in stop_words:\n",
        "        filtered_sent.append(w)\n",
        "print(\"Tokenized Sentence:\",tokenized_words)\n",
        "print(\"Filterd Sentence:\",filtered_sent)"
      ],
      "execution_count": 13,
      "outputs": [
        {
          "output_type": "stream",
          "text": [
            "Tokenized Sentence: ['Discussing', 'climate', ',', 'sustainability', ',', 'and', 'preserving', 'the', 'natural', 'world', 'with', 'President', '@', 'EmmanuelMacron', 'today', 'in', 'Paris', '.', '#', 'BezosEarthFund', '#', 'ClimatePledge']\n",
            "Filterd Sentence: ['Discussing', 'climate', ',', 'sustainability', ',', 'preserving', 'natural', 'world', 'President', '@', 'EmmanuelMacron', 'today', 'Paris', '.', '#', 'BezosEarthFund', '#', 'ClimatePledge']\n"
          ],
          "name": "stdout"
        }
      ]
    },
    {
      "cell_type": "code",
      "metadata": {
        "colab": {
          "base_uri": "https://localhost:8080/"
        },
        "id": "6oWcZHy6Na1a",
        "outputId": "99fe77bf-61c7-4f0f-dc68-1a9098ce1dfc"
      },
      "source": [
        "from nltk.stem import PorterStemmer\n",
        "from nltk.tokenize import sent_tokenize, word_tokenize\n",
        "\n",
        "ps = PorterStemmer()\n",
        "\n",
        "stemmed_words=[]\n",
        "for w in filtered_sent:\n",
        "    stemmed_words.append(ps.stem(w))\n",
        "\n",
        "print(\"Filtered Sentence:\",filtered_sent)\n",
        "print(\"Stemmed Sentence:\",stemmed_words)"
      ],
      "execution_count": 14,
      "outputs": [
        {
          "output_type": "stream",
          "text": [
            "Filtered Sentence: ['Discussing', 'climate', ',', 'sustainability', ',', 'preserving', 'natural', 'world', 'President', '@', 'EmmanuelMacron', 'today', 'Paris', '.', '#', 'BezosEarthFund', '#', 'ClimatePledge']\n",
            "Stemmed Sentence: ['discuss', 'climat', ',', 'sustain', ',', 'preserv', 'natur', 'world', 'presid', '@', 'emmanuelmacron', 'today', 'pari', '.', '#', 'bezosearthfund', '#', 'climatepledg']\n"
          ],
          "name": "stdout"
        }
      ]
    },
    {
      "cell_type": "code",
      "metadata": {
        "colab": {
          "base_uri": "https://localhost:8080/"
        },
        "id": "9egv_zseNglr",
        "outputId": "db921d5a-f457-4a95-f526-aa8565afba0d"
      },
      "source": [
        "from nltk.stem.wordnet import WordNetLemmatizer\n",
        "nltk.download('wordnet')\n",
        "lem = WordNetLemmatizer()\n",
        "\n",
        "from nltk.stem.porter import PorterStemmer\n",
        "stem = PorterStemmer()\n",
        "\n",
        "word = \"cooking\"\n",
        "print(\"Lemmatized Word:\",lem.lemmatize(word,\"v\"))\n",
        "print(\"Stemmed Word:\",stem.stem(word))"
      ],
      "execution_count": 16,
      "outputs": [
        {
          "output_type": "stream",
          "text": [
            "[nltk_data] Downloading package wordnet to /root/nltk_data...\n",
            "[nltk_data]   Package wordnet is already up-to-date!\n",
            "Lemmatized Word: cook\n",
            "Stemmed Word: cook\n"
          ],
          "name": "stdout"
        }
      ]
    },
    {
      "cell_type": "code",
      "metadata": {
        "id": "HFWuDO2lNl4L"
      },
      "source": [
        ""
      ],
      "execution_count": null,
      "outputs": []
    }
  ]
}