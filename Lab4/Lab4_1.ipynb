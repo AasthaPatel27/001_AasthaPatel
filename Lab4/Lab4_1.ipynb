{
  "nbformat": 4,
  "nbformat_minor": 0,
  "metadata": {
    "colab": {
      "name": "Lab4_1.ipynb",
      "provenance": [],
      "collapsed_sections": []
    },
    "kernelspec": {
      "name": "python3",
      "display_name": "Python 3"
    },
    "language_info": {
      "name": "python"
    }
  },
  "cells": [
    {
      "cell_type": "code",
      "metadata": {
        "id": "EvSbKZaLXouw",
        "colab": {
          "base_uri": "https://localhost:8080/"
        },
        "outputId": "1062e728-0e30-43c4-96bf-9de56a9117d2"
      },
      "source": [
        "from google.colab import drive\n",
        "drive.mount('/content/drive')"
      ],
      "execution_count": null,
      "outputs": [
        {
          "output_type": "stream",
          "text": [
            "Mounted at /content/drive\n"
          ],
          "name": "stdout"
        }
      ]
    },
    {
      "cell_type": "code",
      "metadata": {
        "id": "nKdHNbVVfLkl"
      },
      "source": [
        "import pandas as pd\n",
        "import numpy as np\n",
        "import matplotlib.pyplot as plt\n",
        "from sklearn.preprocessing import OneHotEncoder\n",
        "from sklearn.tree import DecisionTreeClassifier\n",
        "from sklearn.model_selection import train_test_split\n",
        "from sklearn.metrics import accuracy_score, confusion_matrix, precision_score, recall_score"
      ],
      "execution_count": 1,
      "outputs": []
    },
    {
      "cell_type": "code",
      "metadata": {
        "id": "LSXIRxgsfhX0"
      },
      "source": [
        "#Predictor variables\n",
        "Outlook = ['Rainy', 'Rainy', 'Overcast', 'Sunny', 'Sunny', 'Sunny', 'Overcast',\n",
        "            'Rainy', 'Rainy', 'Sunny', 'Rainy','Overcast', 'Overcast', 'Sunny']\n",
        "Temperature = ['Hot', 'Hot', 'Hot', 'Mild', 'Cool', 'Cool', 'Cool',\n",
        "                'Mild', 'Cool', 'Mild', 'Mild', 'Mild', 'Hot', 'Mild']\n",
        "Humidity = ['High', 'High', 'High', 'High', 'Normal', 'Normal', 'Normal',\n",
        "            'High', 'Normal', 'Normal', 'Normal', 'High', 'Normal', 'High']\n",
        "Wind = ['False', 'True', 'False', 'False', 'False', 'True', 'True',\n",
        "            'False', 'False', 'False', 'True', 'True', 'False', 'True']\n",
        "\n",
        "#Class Label:\n",
        "Play = ['No', 'No', 'Yes', 'Yes', 'Yes', 'No', 'Yes', 'No',\n",
        "'Yes', 'Yes', 'Yes', 'Yes', 'Yes', 'No']"
      ],
      "execution_count": 2,
      "outputs": []
    },
    {
      "cell_type": "code",
      "metadata": {
        "colab": {
          "base_uri": "https://localhost:8080/",
          "height": 220
        },
        "id": "EUwg68nSfmR0",
        "outputId": "bfd4bc32-6ab5-4567-96a5-f2c5e1738ba8"
      },
      "source": [
        "dataset_list = list(zip(Outlook, Temperature, Humidity, Wind, Play))\n",
        "dataset = pd.DataFrame(dataset_list, columns = [\"Outlook\", \"Temperature\", \"Humidity\", \"Wind\", \"Play\"])\n",
        "print(\"Number of examples and feature:\", dataset.shape)\n",
        "dataset.head()"
      ],
      "execution_count": 3,
      "outputs": [
        {
          "output_type": "stream",
          "name": "stdout",
          "text": [
            "Number of examples and feature: (14, 5)\n"
          ]
        },
        {
          "output_type": "execute_result",
          "data": {
            "text/html": [
              "<div>\n",
              "<style scoped>\n",
              "    .dataframe tbody tr th:only-of-type {\n",
              "        vertical-align: middle;\n",
              "    }\n",
              "\n",
              "    .dataframe tbody tr th {\n",
              "        vertical-align: top;\n",
              "    }\n",
              "\n",
              "    .dataframe thead th {\n",
              "        text-align: right;\n",
              "    }\n",
              "</style>\n",
              "<table border=\"1\" class=\"dataframe\">\n",
              "  <thead>\n",
              "    <tr style=\"text-align: right;\">\n",
              "      <th></th>\n",
              "      <th>Outlook</th>\n",
              "      <th>Temperature</th>\n",
              "      <th>Humidity</th>\n",
              "      <th>Wind</th>\n",
              "      <th>Play</th>\n",
              "    </tr>\n",
              "  </thead>\n",
              "  <tbody>\n",
              "    <tr>\n",
              "      <th>0</th>\n",
              "      <td>Rainy</td>\n",
              "      <td>Hot</td>\n",
              "      <td>High</td>\n",
              "      <td>False</td>\n",
              "      <td>No</td>\n",
              "    </tr>\n",
              "    <tr>\n",
              "      <th>1</th>\n",
              "      <td>Rainy</td>\n",
              "      <td>Hot</td>\n",
              "      <td>High</td>\n",
              "      <td>True</td>\n",
              "      <td>No</td>\n",
              "    </tr>\n",
              "    <tr>\n",
              "      <th>2</th>\n",
              "      <td>Overcast</td>\n",
              "      <td>Hot</td>\n",
              "      <td>High</td>\n",
              "      <td>False</td>\n",
              "      <td>Yes</td>\n",
              "    </tr>\n",
              "    <tr>\n",
              "      <th>3</th>\n",
              "      <td>Sunny</td>\n",
              "      <td>Mild</td>\n",
              "      <td>High</td>\n",
              "      <td>False</td>\n",
              "      <td>Yes</td>\n",
              "    </tr>\n",
              "    <tr>\n",
              "      <th>4</th>\n",
              "      <td>Sunny</td>\n",
              "      <td>Cool</td>\n",
              "      <td>Normal</td>\n",
              "      <td>False</td>\n",
              "      <td>Yes</td>\n",
              "    </tr>\n",
              "  </tbody>\n",
              "</table>\n",
              "</div>"
            ],
            "text/plain": [
              "    Outlook Temperature Humidity   Wind Play\n",
              "0     Rainy         Hot     High  False   No\n",
              "1     Rainy         Hot     High   True   No\n",
              "2  Overcast         Hot     High  False  Yes\n",
              "3     Sunny        Mild     High  False  Yes\n",
              "4     Sunny        Cool   Normal  False  Yes"
            ]
          },
          "metadata": {},
          "execution_count": 3
        }
      ]
    },
    {
      "cell_type": "code",
      "metadata": {
        "colab": {
          "base_uri": "https://localhost:8080/",
          "height": 374
        },
        "id": "-jPGA0vIfsq8",
        "outputId": "e6dea3a0-a129-4468-d1df-64a97e9889f3"
      },
      "source": [
        "dataset.info()\n",
        "dataset.describe()"
      ],
      "execution_count": 4,
      "outputs": [
        {
          "output_type": "stream",
          "name": "stdout",
          "text": [
            "<class 'pandas.core.frame.DataFrame'>\n",
            "RangeIndex: 14 entries, 0 to 13\n",
            "Data columns (total 5 columns):\n",
            " #   Column       Non-Null Count  Dtype \n",
            "---  ------       --------------  ----- \n",
            " 0   Outlook      14 non-null     object\n",
            " 1   Temperature  14 non-null     object\n",
            " 2   Humidity     14 non-null     object\n",
            " 3   Wind         14 non-null     object\n",
            " 4   Play         14 non-null     object\n",
            "dtypes: object(5)\n",
            "memory usage: 688.0+ bytes\n"
          ]
        },
        {
          "output_type": "execute_result",
          "data": {
            "text/html": [
              "<div>\n",
              "<style scoped>\n",
              "    .dataframe tbody tr th:only-of-type {\n",
              "        vertical-align: middle;\n",
              "    }\n",
              "\n",
              "    .dataframe tbody tr th {\n",
              "        vertical-align: top;\n",
              "    }\n",
              "\n",
              "    .dataframe thead th {\n",
              "        text-align: right;\n",
              "    }\n",
              "</style>\n",
              "<table border=\"1\" class=\"dataframe\">\n",
              "  <thead>\n",
              "    <tr style=\"text-align: right;\">\n",
              "      <th></th>\n",
              "      <th>Outlook</th>\n",
              "      <th>Temperature</th>\n",
              "      <th>Humidity</th>\n",
              "      <th>Wind</th>\n",
              "      <th>Play</th>\n",
              "    </tr>\n",
              "  </thead>\n",
              "  <tbody>\n",
              "    <tr>\n",
              "      <th>count</th>\n",
              "      <td>14</td>\n",
              "      <td>14</td>\n",
              "      <td>14</td>\n",
              "      <td>14</td>\n",
              "      <td>14</td>\n",
              "    </tr>\n",
              "    <tr>\n",
              "      <th>unique</th>\n",
              "      <td>3</td>\n",
              "      <td>3</td>\n",
              "      <td>2</td>\n",
              "      <td>2</td>\n",
              "      <td>2</td>\n",
              "    </tr>\n",
              "    <tr>\n",
              "      <th>top</th>\n",
              "      <td>Sunny</td>\n",
              "      <td>Mild</td>\n",
              "      <td>High</td>\n",
              "      <td>False</td>\n",
              "      <td>Yes</td>\n",
              "    </tr>\n",
              "    <tr>\n",
              "      <th>freq</th>\n",
              "      <td>5</td>\n",
              "      <td>6</td>\n",
              "      <td>7</td>\n",
              "      <td>8</td>\n",
              "      <td>9</td>\n",
              "    </tr>\n",
              "  </tbody>\n",
              "</table>\n",
              "</div>"
            ],
            "text/plain": [
              "       Outlook Temperature Humidity   Wind Play\n",
              "count       14          14       14     14   14\n",
              "unique       3           3        2      2    2\n",
              "top      Sunny        Mild     High  False  Yes\n",
              "freq         5           6        7      8    9"
            ]
          },
          "metadata": {},
          "execution_count": 4
        }
      ]
    },
    {
      "cell_type": "code",
      "metadata": {
        "colab": {
          "base_uri": "https://localhost:8080/"
        },
        "id": "_MFfAFOFfwMD",
        "outputId": "1071d4bf-b22e-43fb-ebec-73942147c5cd"
      },
      "source": [
        "start = \"\\033[1m\"\n",
        "end = \"\\033[0;0m\"\n",
        "\n",
        "print(start + \"Unique Outlook values: \" + end, dataset['Outlook'].unique())\n",
        "\n",
        "print(start + \"\\nUnique Temperature values: \" + end, dataset['Temperature'].unique())\n",
        "\n",
        "print(start + \"\\nUnique Humidity values: \" + end, dataset['Humidity'].unique())\n",
        "\n",
        "print(start + \"\\nUnique Wind values: \" + end, dataset['Wind'].unique())\n",
        "\n",
        "print(start + \"\\nUnique Play values \" + \"\\033[91m (Class Label): \" + end, dataset['Play'].unique())"
      ],
      "execution_count": 5,
      "outputs": [
        {
          "output_type": "stream",
          "name": "stdout",
          "text": [
            "\u001b[1mUnique Outlook values: \u001b[0;0m ['Rainy' 'Overcast' 'Sunny']\n",
            "\u001b[1m\n",
            "Unique Temperature values: \u001b[0;0m ['Hot' 'Mild' 'Cool']\n",
            "\u001b[1m\n",
            "Unique Humidity values: \u001b[0;0m ['High' 'Normal']\n",
            "\u001b[1m\n",
            "Unique Wind values: \u001b[0;0m ['False' 'True']\n",
            "\u001b[1m\n",
            "Unique Play values \u001b[91m (Class Label): \u001b[0;0m ['No' 'Yes']\n"
          ]
        }
      ]
    },
    {
      "cell_type": "code",
      "metadata": {
        "colab": {
          "base_uri": "https://localhost:8080/",
          "height": 381
        },
        "id": "BGXUlb9hf0Ro",
        "outputId": "d76d80e0-506a-4d8a-ab08-d8ca7c383492"
      },
      "source": [
        "pie_chart = dataset['Play'].value_counts().plot.pie(autopct = \"%1.1f%%\", radius = 2, startangle = 90)\n",
        "pie_chart.set_ylabel('')\n",
        "plt.show()"
      ],
      "execution_count": 6,
      "outputs": [
        {
          "output_type": "display_data",
          "data": {
            "image/png": "[encoded data removed]",
            "text/plain": [
              "<Figure size 432x288 with 1 Axes>"
            ]
          },
          "metadata": {}
        }
      ]
    },
    {
      "cell_type": "code",
      "metadata": {
        "id": "2ixqk7AKgcwy"
      },
      "source": [
        "dummy = pd.get_dummies(dataset.iloc[:,:-1])\n",
        "\n",
        "cols = dataset.columns.tolist()\n",
        "cols.remove(\"Play\")\n",
        "\n",
        "dataset = dataset.drop(cols, axis = 1)\n",
        "dataset = pd.concat([dummy,dataset], axis = 1)"
      ],
      "execution_count": 7,
      "outputs": []
    },
    {
      "cell_type": "code",
      "metadata": {
        "colab": {
          "base_uri": "https://localhost:8080/",
          "height": 203
        },
        "id": "ykm1zj5SgiMm",
        "outputId": "cad64c93-1b52-47ba-cfb9-fc931e38aff2"
      },
      "source": [
        "dataset.head()"
      ],
      "execution_count": 8,
      "outputs": [
        {
          "output_type": "execute_result",
          "data": {
            "text/html": [
              "<div>\n",
              "<style scoped>\n",
              "    .dataframe tbody tr th:only-of-type {\n",
              "        vertical-align: middle;\n",
              "    }\n",
              "\n",
              "    .dataframe tbody tr th {\n",
              "        vertical-align: top;\n",
              "    }\n",
              "\n",
              "    .dataframe thead th {\n",
              "        text-align: right;\n",
              "    }\n",
              "</style>\n",
              "<table border=\"1\" class=\"dataframe\">\n",
              "  <thead>\n",
              "    <tr style=\"text-align: right;\">\n",
              "      <th></th>\n",
              "      <th>Outlook_Overcast</th>\n",
              "      <th>Outlook_Rainy</th>\n",
              "      <th>Outlook_Sunny</th>\n",
              "      <th>Temperature_Cool</th>\n",
              "      <th>Temperature_Hot</th>\n",
              "      <th>Temperature_Mild</th>\n",
              "      <th>Humidity_High</th>\n",
              "      <th>Humidity_Normal</th>\n",
              "      <th>Wind_False</th>\n",
              "      <th>Wind_True</th>\n",
              "      <th>Play</th>\n",
              "    </tr>\n",
              "  </thead>\n",
              "  <tbody>\n",
              "    <tr>\n",
              "      <th>0</th>\n",
              "      <td>0</td>\n",
              "      <td>1</td>\n",
              "      <td>0</td>\n",
              "      <td>0</td>\n",
              "      <td>1</td>\n",
              "      <td>0</td>\n",
              "      <td>1</td>\n",
              "      <td>0</td>\n",
              "      <td>1</td>\n",
              "      <td>0</td>\n",
              "      <td>No</td>\n",
              "    </tr>\n",
              "    <tr>\n",
              "      <th>1</th>\n",
              "      <td>0</td>\n",
              "      <td>1</td>\n",
              "      <td>0</td>\n",
              "      <td>0</td>\n",
              "      <td>1</td>\n",
              "      <td>0</td>\n",
              "      <td>1</td>\n",
              "      <td>0</td>\n",
              "      <td>0</td>\n",
              "      <td>1</td>\n",
              "      <td>No</td>\n",
              "    </tr>\n",
              "    <tr>\n",
              "      <th>2</th>\n",
              "      <td>1</td>\n",
              "      <td>0</td>\n",
              "      <td>0</td>\n",
              "      <td>0</td>\n",
              "      <td>1</td>\n",
              "      <td>0</td>\n",
              "      <td>1</td>\n",
              "      <td>0</td>\n",
              "      <td>1</td>\n",
              "      <td>0</td>\n",
              "      <td>Yes</td>\n",
              "    </tr>\n",
              "    <tr>\n",
              "      <th>3</th>\n",
              "      <td>0</td>\n",
              "      <td>0</td>\n",
              "      <td>1</td>\n",
              "      <td>0</td>\n",
              "      <td>0</td>\n",
              "      <td>1</td>\n",
              "      <td>1</td>\n",
              "      <td>0</td>\n",
              "      <td>1</td>\n",
              "      <td>0</td>\n",
              "      <td>Yes</td>\n",
              "    </tr>\n",
              "    <tr>\n",
              "      <th>4</th>\n",
              "      <td>0</td>\n",
              "      <td>0</td>\n",
              "      <td>1</td>\n",
              "      <td>1</td>\n",
              "      <td>0</td>\n",
              "      <td>0</td>\n",
              "      <td>0</td>\n",
              "      <td>1</td>\n",
              "      <td>1</td>\n",
              "      <td>0</td>\n",
              "      <td>Yes</td>\n",
              "    </tr>\n",
              "  </tbody>\n",
              "</table>\n",
              "</div>"
            ],
            "text/plain": [
              "   Outlook_Overcast  Outlook_Rainy  Outlook_Sunny  ...  Wind_False  Wind_True  Play\n",
              "0                 0              1              0  ...           1          0    No\n",
              "1                 0              1              0  ...           0          1    No\n",
              "2                 1              0              0  ...           1          0   Yes\n",
              "3                 0              0              1  ...           1          0   Yes\n",
              "4                 0              0              1  ...           1          0   Yes\n",
              "\n",
              "[5 rows x 11 columns]"
            ]
          },
          "metadata": {},
          "execution_count": 8
        }
      ]
    },
    {
      "cell_type": "code",
      "metadata": {
        "colab": {
          "base_uri": "https://localhost:8080/"
        },
        "id": "TFme_IISgk_W",
        "outputId": "c4043450-cb5d-4ebe-9cbd-0f7a06408589"
      },
      "source": [
        "labels = dataset['Play']\n",
        "labels"
      ],
      "execution_count": 9,
      "outputs": [
        {
          "output_type": "execute_result",
          "data": {
            "text/plain": [
              "0      No\n",
              "1      No\n",
              "2     Yes\n",
              "3     Yes\n",
              "4     Yes\n",
              "5      No\n",
              "6     Yes\n",
              "7      No\n",
              "8     Yes\n",
              "9     Yes\n",
              "10    Yes\n",
              "11    Yes\n",
              "12    Yes\n",
              "13     No\n",
              "Name: Play, dtype: object"
            ]
          },
          "metadata": {},
          "execution_count": 9
        }
      ]
    },
    {
      "cell_type": "code",
      "metadata": {
        "id": "NIrN2YWOgoyW"
      },
      "source": [
        "data_train, data_test, target_train, target_test = train_test_split(dataset.iloc[:,:-1],\n",
        "                        labels, test_size = 0.30, random_state = 1)"
      ],
      "execution_count": 10,
      "outputs": []
    },
    {
      "cell_type": "code",
      "metadata": {
        "id": "e3LvXILRgrmZ"
      },
      "source": [
        "DT = DecisionTreeClassifier(max_leaf_nodes = 10, random_state = 1) \n",
        "# roll no is 1 and max_leaf_nodes has to be greater than 1, so have multiplied my roll no by 10\n",
        "\n",
        "# fitting the model or training\n",
        "final_model = DT.fit(data_train,target_train)"
      ],
      "execution_count": 11,
      "outputs": []
    },
    {
      "cell_type": "code",
      "metadata": {
        "id": "3L26xvN3gzyv"
      },
      "source": [
        "target_predict = DT.predict(data_test)"
      ],
      "execution_count": 12,
      "outputs": []
    },
    {
      "cell_type": "code",
      "metadata": {
        "colab": {
          "base_uri": "https://localhost:8080/"
        },
        "id": "J3_a82nIhMRz",
        "outputId": "5f7999a0-56c6-4649-8c1c-7900a319e924"
      },
      "source": [
        "Accuracy = accuracy_score(target_test, target_predict)\n",
        "print( Accuracy)"
      ],
      "execution_count": 13,
      "outputs": [
        {
          "output_type": "stream",
          "name": "stdout",
          "text": [
            "0.4\n"
          ]
        }
      ]
    },
    {
      "cell_type": "code",
      "metadata": {
        "colab": {
          "base_uri": "https://localhost:8080/"
        },
        "id": "BUMxsCqDhPwk",
        "outputId": "bfb5a298-3498-4be3-eb3b-5d8ea5b92150"
      },
      "source": [
        "cm = confusion_matrix(target_test, target_predict)\n",
        "cm"
      ],
      "execution_count": 14,
      "outputs": [
        {
          "output_type": "execute_result",
          "data": {
            "text/plain": [
              "array([[1, 0],\n",
              "       [3, 1]])"
            ]
          },
          "metadata": {},
          "execution_count": 14
        }
      ]
    },
    {
      "cell_type": "code",
      "metadata": {
        "colab": {
          "base_uri": "https://localhost:8080/"
        },
        "id": "podiNnS2hT_K",
        "outputId": "6bae1b2a-acdc-4003-c6f1-48859ec9f62f"
      },
      "source": [
        "precision = precision_score(target_test, target_predict, average=None)\n",
        "\n",
        "precision"
      ],
      "execution_count": 15,
      "outputs": [
        {
          "output_type": "execute_result",
          "data": {
            "text/plain": [
              "array([0.25, 1.  ])"
            ]
          },
          "metadata": {},
          "execution_count": 15
        }
      ]
    },
    {
      "cell_type": "code",
      "metadata": {
        "colab": {
          "base_uri": "https://localhost:8080/"
        },
        "id": "v3Sq8WLMhW6J",
        "outputId": "050f89b0-67e8-4e6e-8fe4-119dcacf3f57"
      },
      "source": [
        "recall = recall_score(target_test, target_predict, average=None)\n",
        "recall"
      ],
      "execution_count": 16,
      "outputs": [
        {
          "output_type": "execute_result",
          "data": {
            "text/plain": [
              "array([1.  , 0.25])"
            ]
          },
          "metadata": {},
          "execution_count": 16
        }
      ]
    },
    {
      "cell_type": "code",
      "metadata": {
        "id": "yMayAOYYhaPi"
      },
      "source": [
        ""
      ],
      "execution_count": 16,
      "outputs": []
    },
    {
      "cell_type": "markdown",
      "metadata": {
        "id": "ZoHVJDWAhde7"
      },
      "source": [
        "1. What will be the value of Play, if Outlook is ’Rainy’, Temperature is ’Mild’, Humidity =’Normal’, and Wind = ’False’?"
      ]
    },
    {
      "cell_type": "code",
      "metadata": {
        "id": "Vls8d78Rhggd"
      },
      "source": [
        "q1 = [0,1,0,0,0,1,0,1,1,0]"
      ],
      "execution_count": 17,
      "outputs": []
    },
    {
      "cell_type": "markdown",
      "metadata": {
        "id": "mAR6wfnihoE0"
      },
      "source": [
        "2. What will be the value of Play, if Outlook is ’Sunny’, Temeprature is ’Cool’, Humidity =’High’, and Wind = ’True’?"
      ]
    },
    {
      "cell_type": "code",
      "metadata": {
        "id": "0gZVpBMqhr7q"
      },
      "source": [
        "q2 = [0,0,1,1,0,0,1,0,0,1]"
      ],
      "execution_count": 18,
      "outputs": []
    },
    {
      "cell_type": "code",
      "metadata": {
        "colab": {
          "base_uri": "https://localhost:8080/",
          "height": 110
        },
        "id": "4r8IYyzwhwlL",
        "outputId": "bec94018-99fb-4583-a4d4-afc0e80d0516"
      },
      "source": [
        "features = dataset.columns.tolist()\n",
        "features.remove(\"Play\")\n",
        "df = pd.DataFrame([q1,q2], columns = features)\n",
        "df.head()"
      ],
      "execution_count": 19,
      "outputs": [
        {
          "output_type": "execute_result",
          "data": {
            "text/html": [
              "<div>\n",
              "<style scoped>\n",
              "    .dataframe tbody tr th:only-of-type {\n",
              "        vertical-align: middle;\n",
              "    }\n",
              "\n",
              "    .dataframe tbody tr th {\n",
              "        vertical-align: top;\n",
              "    }\n",
              "\n",
              "    .dataframe thead th {\n",
              "        text-align: right;\n",
              "    }\n",
              "</style>\n",
              "<table border=\"1\" class=\"dataframe\">\n",
              "  <thead>\n",
              "    <tr style=\"text-align: right;\">\n",
              "      <th></th>\n",
              "      <th>Outlook_Overcast</th>\n",
              "      <th>Outlook_Rainy</th>\n",
              "      <th>Outlook_Sunny</th>\n",
              "      <th>Temperature_Cool</th>\n",
              "      <th>Temperature_Hot</th>\n",
              "      <th>Temperature_Mild</th>\n",
              "      <th>Humidity_High</th>\n",
              "      <th>Humidity_Normal</th>\n",
              "      <th>Wind_False</th>\n",
              "      <th>Wind_True</th>\n",
              "    </tr>\n",
              "  </thead>\n",
              "  <tbody>\n",
              "    <tr>\n",
              "      <th>0</th>\n",
              "      <td>0</td>\n",
              "      <td>1</td>\n",
              "      <td>0</td>\n",
              "      <td>0</td>\n",
              "      <td>0</td>\n",
              "      <td>1</td>\n",
              "      <td>0</td>\n",
              "      <td>1</td>\n",
              "      <td>1</td>\n",
              "      <td>0</td>\n",
              "    </tr>\n",
              "    <tr>\n",
              "      <th>1</th>\n",
              "      <td>0</td>\n",
              "      <td>0</td>\n",
              "      <td>1</td>\n",
              "      <td>1</td>\n",
              "      <td>0</td>\n",
              "      <td>0</td>\n",
              "      <td>1</td>\n",
              "      <td>0</td>\n",
              "      <td>0</td>\n",
              "      <td>1</td>\n",
              "    </tr>\n",
              "  </tbody>\n",
              "</table>\n",
              "</div>"
            ],
            "text/plain": [
              "   Outlook_Overcast  Outlook_Rainy  ...  Wind_False  Wind_True\n",
              "0                 0              1  ...           1          0\n",
              "1                 0              0  ...           0          1\n",
              "\n",
              "[2 rows x 10 columns]"
            ]
          },
          "metadata": {},
          "execution_count": 19
        }
      ]
    },
    {
      "cell_type": "code",
      "metadata": {
        "id": "AG89OwE3hygW"
      },
      "source": [
        "ans = DT.predict(df)"
      ],
      "execution_count": 20,
      "outputs": []
    },
    {
      "cell_type": "code",
      "metadata": {
        "colab": {
          "base_uri": "https://localhost:8080/"
        },
        "id": "UoLZmK-Gh4q0",
        "outputId": "78dcf15a-2436-4017-e7ac-192230cf0a74"
      },
      "source": [
        "ans"
      ],
      "execution_count": 21,
      "outputs": [
        {
          "output_type": "execute_result",
          "data": {
            "text/plain": [
              "array(['Yes', 'No'], dtype=object)"
            ]
          },
          "metadata": {},
          "execution_count": 21
        }
      ]
    },
    {
      "cell_type": "code",
      "metadata": {
        "id": "HwVPibHeh6yG"
      },
      "source": [
        ""
      ],
      "execution_count": null,
      "outputs": []
    }
  ]
}