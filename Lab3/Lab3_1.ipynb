{
  "nbformat": 4,
  "nbformat_minor": 0,
  "metadata": {
    "colab": {
      "name": "Lab3_1.ipynb",
      "provenance": [],
      "collapsed_sections": []
    },
    "kernelspec": {
      "name": "python3",
      "display_name": "Python 3"
    },
    "language_info": {
      "name": "python"
    }
  },
  "cells": [
    {
      "cell_type": "code",
      "metadata": {
        "colab": {
          "base_uri": "https://localhost:8080/"
        },
        "id": "Y9BugvUukA1Q",
        "outputId": "742eb08a-2bac-4f9f-ae6e-a51ffcaf772c"
      },
      "source": [
        "from google.colab import drive\n",
        "drive.mount(\"/content/drive\")\n",
        "\n",
        "import numpy as np\n",
        "import pandas as pd\n",
        "import matplotlib.pyplot as plt\n",
        "from sklearn import datasets, preprocessing\n",
        "from sklearn.naive_bayes import GaussianNB, MultinomialNB"
      ],
      "execution_count": null,
      "outputs": [
        {
          "output_type": "stream",
          "text": [
            "Mounted at /content/drive\n"
          ],
          "name": "stdout"
        }
      ]
    },
    {
      "cell_type": "code",
      "metadata": {
        "id": "rIeN2jp6lpbz"
      },
      "source": [
        "data = pd.read_csv(\"/content/drive/My Drive/Colab Notebooks/Dataset1.csv\")"
      ],
      "execution_count": null,
      "outputs": []
    },
    {
      "cell_type": "code",
      "metadata": {
        "colab": {
          "base_uri": "https://localhost:8080/"
        },
        "id": "35-hG0-umOYb",
        "outputId": "c909fe4f-20b6-414e-e711-b890d96b7ca7"
      },
      "source": [
        "label_encoder = preprocessing.LabelEncoder()\n",
        "Y_rows=None\n",
        "for data_heading in data:\n",
        "  if data_heading!=\"Play\":\n",
        "    print(f\"\\n\\nHeading :- {data_heading}\")\n",
        "    dummy = pd.get_dummies(data[data_heading])\n",
        "    data = data.drop([data_heading],axis=1)\n",
        "    data = pd.concat([data,dummy],axis=1)\n",
        "  else:\n",
        "    Y_rows = label_encoder.fit_transform(data[data_heading])\n",
        "    data = data.drop([data_heading],axis=1)"
      ],
      "execution_count": null,
      "outputs": [
        {
          "output_type": "stream",
          "text": [
            "\n",
            "\n",
            "Heading :- Outlook\n",
            "\n",
            "\n",
            "Heading :- Temp\n",
            "\n",
            "\n",
            "Heading :- Humidity\n",
            "\n",
            "\n",
            "Heading :- Wind\n"
          ],
          "name": "stdout"
        }
      ]
    },
    {
      "cell_type": "code",
      "metadata": {
        "id": "0mdo6CHWmj9w",
        "colab": {
          "base_uri": "https://localhost:8080/"
        },
        "outputId": "8635d198-4fca-472e-df75-6a7eeaeae60c"
      },
      "source": [
        "print(data\n",
        "      ,Y_rows)"
      ],
      "execution_count": null,
      "outputs": [
        {
          "output_type": "stream",
          "text": [
            "    O  R  S  C  H  M  High  Low  Normal  F  T\n",
            "0   0  1  0  0  1  0     0    0       1  1  0\n",
            "1   0  1  0  0  1  0     1    0       0  0  1\n",
            "2   1  0  0  0  1  0     0    0       1  1  0\n",
            "3   0  0  1  0  0  1     0    0       1  1  0\n",
            "4   0  0  1  1  0  0     0    0       1  1  0\n",
            "5   0  0  1  1  0  0     0    1       0  0  1\n",
            "6   1  0  0  1  0  0     0    0       1  0  1\n",
            "7   0  1  0  0  0  1     0    0       1  1  0\n",
            "8   0  1  0  1  0  0     0    1       0  1  0\n",
            "9   0  0  1  0  0  1     1    0       0  1  0\n",
            "10  0  1  0  0  0  1     1    0       0  0  1\n",
            "11  1  0  0  0  0  1     0    1       0  0  1\n",
            "12  1  0  0  0  1  0     0    0       1  1  0\n",
            "13  0  0  1  0  0  1     0    0       1  0  1 [0 0 1 1 1 0 1 0 1 1 1 1 1 0]\n"
          ],
          "name": "stdout"
        }
      ]
    },
    {
      "cell_type": "code",
      "metadata": {
        "id": "UtvjBV_YSaOA"
      },
      "source": [
        "from sklearn.model_selection import train_test_split\n",
        "\n",
        "X_train, X_test, Y_train, Y_test = train_test_split(data, Y_rows, test_size = 0.30, random_state = 54)"
      ],
      "execution_count": null,
      "outputs": []
    },
    {
      "cell_type": "code",
      "metadata": {
        "colab": {
          "base_uri": "https://localhost:8080/"
        },
        "id": "wIcHw9xfSfGE",
        "outputId": "90a954b4-13cc-44d2-b3fb-69b0bed3dfe3"
      },
      "source": [
        "model = MultinomialNB()\n",
        "model.fit(X_train, Y_train)\n",
        "\n",
        "\n",
        "Y_predicted = model.predict(X_test)\n",
        "print(X_test)\n",
        "print(Y_predicted)"
      ],
      "execution_count": null,
      "outputs": [
        {
          "output_type": "stream",
          "text": [
            "    O  R  S  C  H  M  High  Low  Normal  F  T\n",
            "4   0  0  1  1  0  0     0    0       1  1  0\n",
            "12  1  0  0  0  1  0     0    0       1  1  0\n",
            "9   0  0  1  0  0  1     1    0       0  1  0\n",
            "3   0  0  1  0  0  1     0    0       1  1  0\n",
            "13  0  0  1  0  0  1     0    0       1  0  1\n",
            "[0 1 0 0 0]\n"
          ],
          "name": "stdout"
        }
      ]
    },
    {
      "cell_type": "code",
      "metadata": {
        "colab": {
          "base_uri": "https://localhost:8080/"
        },
        "id": "tWK-_uq1SjVM",
        "outputId": "82648e62-d0b6-4c11-e183-77f52393108d"
      },
      "source": [
        "from sklearn import metrics\n",
        "\n",
        "print(f\"Accuracy is :- {metrics.accuracy_score(Y_test, Y_predicted)}\")\n",
        "\n",
        "\n",
        "from sklearn.metrics import precision_score\n",
        "from sklearn.metrics import recall_score\n",
        "\n",
        "\n",
        "precision = precision_score(Y_test, Y_predicted)\n",
        "recall = recall_score(Y_test, Y_predicted)\n",
        "\n",
        "\n",
        "print(f\"precision :- {precision}\")\n",
        "print(f\"recall :- {recall}\")"
      ],
      "execution_count": null,
      "outputs": [
        {
          "output_type": "stream",
          "text": [
            "Accuracy is :- 0.4\n",
            "precision :- 1.0\n",
            "recall :- 0.25\n"
          ],
          "name": "stdout"
        }
      ]
    },
    {
      "cell_type": "code",
      "metadata": {
        "colab": {
          "base_uri": "https://localhost:8080/"
        },
        "id": "9oNU_CbNSrj-",
        "outputId": "028d18f1-8f64-4329-8544-66ef26a0a0d5"
      },
      "source": [
        "# Excersice\n",
        "# Task1\n",
        "\n",
        "# Temp = \"Hot\" and Weather = \"overcast\"\n",
        "#              1  1  0\n",
        "#Outlook(O,R,S)=0  1  0,\tTemp(C,H,M)=0  1  0,\tHumidity(High,Low,Normal)=0  0 1,\tWind(F,T)=1,0,\tPlay=0\n",
        "output = model.predict([[0,1,0, 0,1,0  ,0,0,1 ,1,0]])\n",
        "print(f\"final prediction :- {output}\")\n",
        "\n",
        "output = model.predict([[1,0,0  ,0,1,0    ,0,0,1  ,1,0]])\n",
        "print(f\"final prediction :- {output}\")\n",
        "\n",
        "# Excersice\n",
        "# Task1\n",
        "\n",
        "# Overcast, Mild, Normal, True\n",
        "\n",
        "output = model.predict([[1,0,0, 0,0,1 ,0,0,1  ,0,1]])\n",
        "print(f\"final prediction :- {output}\")"
      ],
      "execution_count": null,
      "outputs": [
        {
          "output_type": "stream",
          "text": [
            "final prediction :- [0]\n",
            "final prediction :- [1]\n",
            "final prediction :- [1]\n"
          ],
          "name": "stdout"
        }
      ]
    },
    {
      "cell_type": "code",
      "metadata": {
        "id": "nuWxCwjfSw-F"
      },
      "source": [
        ""
      ],
      "execution_count": null,
      "outputs": []
    }
  ]
}