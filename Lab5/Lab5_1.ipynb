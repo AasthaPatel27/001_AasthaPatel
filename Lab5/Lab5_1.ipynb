{
  "nbformat": 4,
  "nbformat_minor": 0,
  "metadata": {
    "colab": {
      "name": "Lab5_1.ipynb",
      "provenance": []
    },
    "kernelspec": {
      "name": "python3",
      "display_name": "Python 3"
    },
    "language_info": {
      "name": "python"
    }
  },
  "cells": [
    {
      "cell_type": "code",
      "metadata": {
        "id": "w89wYzGcIRsK"
      },
      "source": [
        "import numpy as np"
      ],
      "execution_count": 1,
      "outputs": []
    },
    {
      "cell_type": "markdown",
      "metadata": {
        "id": "oj4W0CRVIj5w"
      },
      "source": [
        "Training Data"
      ]
    },
    {
      "cell_type": "code",
      "metadata": {
        "id": "Xx_IhZ19It2R"
      },
      "source": [
        "#Input Features\n",
        "\n",
        "X = np.array([[73, 67, 43], \n",
        "              [91, 88, 64], \n",
        "              [87, 134, 58], \n",
        "              [102, 43, 37], \n",
        "              [69, 96, 70]], dtype='float32')"
      ],
      "execution_count": 2,
      "outputs": []
    },
    {
      "cell_type": "code",
      "metadata": {
        "id": "YVkJ3rs8I8aI"
      },
      "source": [
        "#Target \n",
        "\n",
        "Y = np.array([[56], \n",
        "              [81], \n",
        "              [119], \n",
        "              [22], \n",
        "              [103]], dtype='float32')"
      ],
      "execution_count": 3,
      "outputs": []
    },
    {
      "cell_type": "markdown",
      "metadata": {
        "id": "e_zBaJDjJCIX"
      },
      "source": [
        "Linear Regression Model"
      ]
    },
    {
      "cell_type": "code",
      "metadata": {
        "colab": {
          "base_uri": "https://localhost:8080/"
        },
        "id": "QFGSG39OI_0_",
        "outputId": "74403284-6cc2-4dfb-9825-a083375781c2"
      },
      "source": [
        "# Normalising the Input\n",
        "\n",
        "mu = np.mean(X,0)\n",
        "sigma = np.std(X,0)\n",
        "X = (X-mu)/sigma\n",
        "X = np.hstack((np.ones((Y.size,1)),X))\n",
        "X.shape"
      ],
      "execution_count": 4,
      "outputs": [
        {
          "output_type": "execute_result",
          "data": {
            "text/plain": [
              "(5, 4)"
            ]
          },
          "metadata": {},
          "execution_count": 4
        }
      ]
    },
    {
      "cell_type": "code",
      "metadata": {
        "colab": {
          "base_uri": "https://localhost:8080/"
        },
        "id": "GyylWDEJKBtb",
        "outputId": "174fb755-64b6-48af-c605-23057bb8927c"
      },
      "source": [
        "# Weights and biases\n",
        "rg = np.random.default_rng(40)\n",
        "w = rg.random((1,4))\n",
        "w"
      ],
      "execution_count": 24,
      "outputs": [
        {
          "output_type": "execute_result",
          "data": {
            "text/plain": [
              "array([[0.7298985 , 0.69341496, 0.94192102, 0.05965206]])"
            ]
          },
          "metadata": {},
          "execution_count": 24
        }
      ]
    },
    {
      "cell_type": "markdown",
      "metadata": {
        "id": "O7N2RvBxKdfJ"
      },
      "source": [
        "Loss Function\n",
        "\n",
        "\n",
        "\n"
      ]
    },
    {
      "cell_type": "code",
      "metadata": {
        "colab": {
          "base_uri": "https://localhost:8080/"
        },
        "id": "x-_daLTyKVtq",
        "outputId": "7405ec83-9370-40b1-8bf4-17d5b4b3fc90"
      },
      "source": [
        "def mse(t1, t2):\n",
        "    diff = t1 - t2\n",
        "    return np.sum(diff * diff) / diff.size\n",
        "\n",
        "# Compute error\n",
        "preds = model(X,w)\n",
        "cost_initial = mse(preds, Y)\n",
        "print(\"Cost before regression: \",cost_initial)"
      ],
      "execution_count": 25,
      "outputs": [
        {
          "output_type": "stream",
          "name": "stdout",
          "text": [
            "Cost before regression:  6837.370626720728\n"
          ]
        }
      ]
    },
    {
      "cell_type": "markdown",
      "metadata": {
        "id": "Oeptj3zgLG7Y"
      },
      "source": [
        "Compute Gradients"
      ]
    },
    {
      "cell_type": "code",
      "metadata": {
        "id": "bpFIcO1vLFHv"
      },
      "source": [
        "# Define the model\n",
        "def model(x,w):\n",
        "    return x @ w.T"
      ],
      "execution_count": 26,
      "outputs": []
    },
    {
      "cell_type": "code",
      "metadata": {
        "id": "dGEJuDweLOli"
      },
      "source": [
        "def gradient_descent(X,y,w,learning_rate, n_iters):\n",
        "  J_history = np.zeros((n_iters,1))\n",
        "  for i in range(n_iters):\n",
        "    h = model(X,w)\n",
        "    diff = h - y\n",
        "    delta = (learning_rate/Y.size)*(X.T@diff)\n",
        "    new_w = w - delta.T\n",
        "    w=new_w\n",
        "    J_history[i] = mse(h, y)\n",
        "  return (J_history, w)"
      ],
      "execution_count": 27,
      "outputs": []
    },
    {
      "cell_type": "markdown",
      "metadata": {
        "id": "zp5HweuHMW8i"
      },
      "source": [
        "Train for multiple Epochs"
      ]
    },
    {
      "cell_type": "code",
      "metadata": {
        "colab": {
          "base_uri": "https://localhost:8080/"
        },
        "id": "EKgJkvb4MMKN",
        "outputId": "5312e4d5-5e10-4b15-b877-4874da88706b"
      },
      "source": [
        "import matplotlib.pyplot as plt\n",
        "n_iters = 500\n",
        "learning_rate = 0.01\n",
        "\n",
        "initial_cost = mse(model(X,w),Y)\n",
        "\n",
        "print(\"Initial cost is: \", initial_cost, \"\\n\")\n",
        "\n",
        "(J_history, optimal_params) = gradient_descent(X, Y, w, learning_rate, n_iters)\n",
        "\n",
        "print(\"Optimal parameters are: \\n\", optimal_params, \"\\n\")\n",
        "\n",
        "print(\"Final cost is: \", J_history[-1])"
      ],
      "execution_count": 28,
      "outputs": [
        {
          "output_type": "stream",
          "name": "stdout",
          "text": [
            "Initial cost is:  6837.370626720728 \n",
            "\n",
            "Optimal parameters are: \n",
            " [[75.70412518 -4.36336061 24.07319285 10.53168339]] \n",
            "\n",
            "Final cost is:  [3.02194313]\n"
          ]
        }
      ]
    },
    {
      "cell_type": "code",
      "metadata": {
        "colab": {
          "base_uri": "https://localhost:8080/"
        },
        "id": "jQJpvqYWMsjD",
        "outputId": "591775a2-f58b-45f4-caff-a6b9912a10b4"
      },
      "source": [
        "# Calculate error\n",
        "preds = model(X,optimal_params)\n",
        "cost_final = mse(preds, Y)\n",
        "# Print predictions\n",
        "print(\"Prediction:\\n\",preds)\n",
        "# Comparing predicted with targets\n",
        "print(\"Targets:\\n\",Y)"
      ],
      "execution_count": 29,
      "outputs": [
        {
          "output_type": "stream",
          "name": "stdout",
          "text": [
            "Prediction:\n",
            " [[ 55.48881007]\n",
            " [ 83.30603533]\n",
            " [116.13863769]\n",
            " [ 20.9284231 ]\n",
            " [102.65871911]]\n",
            "Targets:\n",
            " [[ 56.]\n",
            " [ 81.]\n",
            " [119.]\n",
            " [ 22.]\n",
            " [103.]]\n"
          ]
        }
      ]
    },
    {
      "cell_type": "code",
      "metadata": {
        "id": "ihOVlU3XNBGX"
      },
      "source": [
        ""
      ],
      "execution_count": 29,
      "outputs": []
    }
  ]
}